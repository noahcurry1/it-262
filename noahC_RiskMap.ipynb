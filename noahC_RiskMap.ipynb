{
  "nbformat": 4,
  "nbformat_minor": 0,
  "metadata": {
    "colab": {
      "name": "noahC_RiskMap.ipynb",
      "provenance": [],
      "authorship_tag": "ABX9TyOTrpGa7pDwzZwVsMi4TbG9",
      "include_colab_link": true
    },
    "kernelspec": {
      "name": "python3",
      "display_name": "Python 3"
    },
    "language_info": {
      "name": "python"
    }
  },
  "cells": [
    {
      "cell_type": "markdown",
      "metadata": {
        "id": "view-in-github",
        "colab_type": "text"
      },
      "source": [
        "<a href=\"https://colab.research.google.com/github/noahcurry1/it-262/blob/main/noahC_RiskMap.ipynb\" target=\"_parent\"><img src=\"https://colab.research.google.com/assets/colab-badge.svg\" alt=\"Open In Colab\"/></a>"
      ]
    },
    {
      "cell_type": "code",
      "execution_count": 8,
      "metadata": {
        "colab": {
          "base_uri": "https://localhost:8080/"
        },
        "id": "QbigyFVNsmNk",
        "outputId": "ab430a85-3453-4b8b-830c-d837f17aaad0"
      },
      "outputs": [
        {
          "output_type": "stream",
          "name": "stdout",
          "text": [
            "       risk  likelihood impact score\n",
            "0     users         0.2    NaN   NaN\n",
            "1      team         0.3    NaN   NaN\n",
            "2    budget         0.1    NaN   NaN\n",
            "3  security         0.5    NaN   NaN\n"
          ]
        }
      ],
      "source": [
        "#library\n",
        "import seaborn as sns\n",
        "import pandas as pd\n",
        "import numpy as np\n",
        "\n",
        "#create a dataframe data table\n",
        "\n",
        "df=pd.DataFrame(columns=['risk','likelihood','impact','score'])\n",
        "\n",
        "df['risk']=['users', 'team', 'budget','security']\n",
        "\n",
        "df['likelihood']=[.2,.3,.1,.5]\n",
        "\n",
        "print(df)"
      ]
    },
    {
      "cell_type": "code",
      "source": [
        "#calculating our score using impact\n",
        "df['impact']=[1,2,7,10]\n",
        "\n",
        "df['score']=df['impact']*df['likelihood']\n",
        "\n",
        "print(df)"
      ],
      "metadata": {
        "colab": {
          "base_uri": "https://localhost:8080/"
        },
        "id": "C8kERz93uHNq",
        "outputId": "1993504a-e985-48ee-baf3-600665c2d323"
      },
      "execution_count": 10,
      "outputs": [
        {
          "output_type": "stream",
          "name": "stdout",
          "text": [
            "       risk  likelihood  impact  score\n",
            "0     users         0.2       1    0.2\n",
            "1      team         0.3       2    0.6\n",
            "2    budget         0.1       7    0.7\n",
            "3  security         0.5      10    5.0\n"
          ]
        }
      ]
    },
    {
      "cell_type": "code",
      "source": [
        "#create heat map\n",
        "scoresPivot=df.pivot('impact','likelihood','score')\n",
        "print(scoresPivot)\n",
        "\n",
        "labelsPivot=df.pivot('impact','likelihood','risk')\n",
        "print(labelsPivot)\n",
        "\n",
        "#replacing the empty labels with strings\n",
        "#labelsPivot.fillna('',inplace=True)\n",
        "\n",
        "#simple heatmap\n",
        "p1=sns.heatmap(scoresPivot, cmap=\"Spectral_r\", annot=labelsPivot,fmt='')"
      ],
      "metadata": {
        "colab": {
          "base_uri": "https://localhost:8080/",
          "height": 491
        },
        "id": "ZQ04X4g3uoLy",
        "outputId": "908e60a0-4ba1-4bfd-8c3c-0c61439a31f1"
      },
      "execution_count": 16,
      "outputs": [
        {
          "output_type": "stream",
          "name": "stdout",
          "text": [
            "likelihood  0.1  0.2  0.3  0.5\n",
            "impact                        \n",
            "1           NaN  0.2  NaN  NaN\n",
            "2           NaN  NaN  0.6  NaN\n",
            "7           0.7  NaN  NaN  NaN\n",
            "10          NaN  NaN  NaN  5.0\n",
            "likelihood     0.1    0.2   0.3       0.5\n",
            "impact                                   \n",
            "1              NaN  users   NaN       NaN\n",
            "2              NaN    NaN  team       NaN\n",
            "7           budget    NaN   NaN       NaN\n",
            "10             NaN    NaN   NaN  security\n"
          ]
        },
        {
          "output_type": "display_data",
          "data": {
            "image/png": "[encoded data removed]",
            "text/plain": [
              "<Figure size 432x288 with 2 Axes>"
            ]
          },
          "metadata": {
            "needs_background": "light"
          }
        }
      ]
    }
  ]
}