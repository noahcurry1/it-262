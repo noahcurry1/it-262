{
  "nbformat": 4,
  "nbformat_minor": 0,
  "metadata": {
    "colab": {
      "name": "NoahC_AlternativeAnalysis.ipynb",
      "provenance": [],
      "authorship_tag": "ABX9TyOGRK6J2E5DbFRT0riAks7B",
      "include_colab_link": true
    },
    "kernelspec": {
      "name": "python3",
      "display_name": "Python 3"
    },
    "language_info": {
      "name": "python"
    }
  },
  "cells": [
    {
      "cell_type": "markdown",
      "metadata": {
        "id": "view-in-github",
        "colab_type": "text"
      },
      "source": [
        "<a href=\"https://colab.research.google.com/github/noahcurry1/it-262/blob/main/NoahC_AlternativeAnalysis.ipynb\" target=\"_parent\"><img src=\"https://colab.research.google.com/assets/colab-badge.svg\" alt=\"Open In Colab\"/></a>"
      ]
    },
    {
      "cell_type": "code",
      "execution_count": null,
      "metadata": {
        "colab": {
          "base_uri": "https://localhost:8080/"
        },
        "id": "5kocQv8j-gWe",
        "outputId": "c4815f42-ea0d-4ffe-b5e6-a54873f307bd"
      },
      "outputs": [
        {
          "output_type": "stream",
          "name": "stdout",
          "text": [
            "Empty DataFrame\n",
            "Columns: [criteria, weight, ratingA, ratingB, scoreA, scoreB]\n",
            "Index: []\n"
          ]
        }
      ],
      "source": [
        "import pandas as pd\n",
        "\n",
        "#create a datatframe for our AA \n",
        "\n",
        "AA=pd.DataFrame(columns=['criteria','weight', 'ratingA', 'ratingB', 'scoreA', 'scoreB'])\n",
        "print(AA)"
      ]
    },
    {
      "cell_type": "code",
      "source": [
        "#1st id a set of criteria\n",
        "\n",
        "AA['criteria']=['risk','ROI', 'feasibility', 'customer satisfaction', 'alignment']\n",
        "print(AA)"
      ],
      "metadata": {
        "colab": {
          "base_uri": "https://localhost:8080/"
        },
        "id": "PGjw93ND_YxA",
        "outputId": "affe90af-a15b-473a-bc28-ed19bc39d71c"
      },
      "execution_count": null,
      "outputs": [
        {
          "output_type": "stream",
          "name": "stdout",
          "text": [
            "                criteria weight ratingA ratingB scoreA scoreB\n",
            "0                   risk    NaN     NaN     NaN    NaN    NaN\n",
            "1                    ROI    NaN     NaN     NaN    NaN    NaN\n",
            "2            feasibility    NaN     NaN     NaN    NaN    NaN\n",
            "3  customer satisfaction    NaN     NaN     NaN    NaN    NaN\n",
            "4              alignment    NaN     NaN     NaN    NaN    NaN\n"
          ]
        }
      ]
    },
    {
      "cell_type": "code",
      "source": [
        "#2nd assign weights\n",
        "\n",
        "AA['weight']=[.1,.15,.3,.15,.3]\n",
        "print(AA)"
      ],
      "metadata": {
        "colab": {
          "base_uri": "https://localhost:8080/"
        },
        "id": "KF3TrUkN_6VG",
        "outputId": "f9c24872-8dc6-4a5e-df7e-f917d4142f04"
      },
      "execution_count": null,
      "outputs": [
        {
          "output_type": "stream",
          "name": "stdout",
          "text": [
            "                criteria  weight ratingA ratingB scoreA scoreB\n",
            "0                   risk    0.10     NaN     NaN    NaN    NaN\n",
            "1                    ROI    0.15     NaN     NaN    NaN    NaN\n",
            "2            feasibility    0.30     NaN     NaN    NaN    NaN\n",
            "3  customer satisfaction    0.15     NaN     NaN    NaN    NaN\n",
            "4              alignment    0.30     NaN     NaN    NaN    NaN\n"
          ]
        }
      ]
    },
    {
      "cell_type": "code",
      "source": [
        "#3rd rate alt across all criteria\n",
        "#choose a scale \n",
        "#higher number is a better alt\n",
        "\n",
        "AA['ratingA']=[1,2,3,4,5]\n",
        "AA['ratingB']=[5,4,3,2,1]\n",
        "\n",
        "print(AA)"
      ],
      "metadata": {
        "colab": {
          "base_uri": "https://localhost:8080/"
        },
        "id": "0GV5qyymAb5T",
        "outputId": "7bbcf496-9115-4697-b36e-c349b8953f1c"
      },
      "execution_count": null,
      "outputs": [
        {
          "output_type": "stream",
          "name": "stdout",
          "text": [
            "                criteria  weight  ratingA  ratingB scoreA scoreB\n",
            "0                   risk    0.10        1        5    NaN    NaN\n",
            "1                    ROI    0.15        2        4    NaN    NaN\n",
            "2            feasibility    0.30        3        3    NaN    NaN\n",
            "3  customer satisfaction    0.15        4        2    NaN    NaN\n",
            "4              alignment    0.30        5        1    NaN    NaN\n"
          ]
        }
      ]
    },
    {
      "cell_type": "code",
      "source": [
        "#4th calc scores by ratings\n",
        "\n",
        "for index, row in AA.iterrows():\n",
        "    AA['scoreA'][index]=row['weight']*row['ratingA']\n",
        "    AA['scoreB'][index]=row['weight']*row['ratingB']\n",
        "\n",
        "print(AA)"
      ],
      "metadata": {
        "colab": {
          "base_uri": "https://localhost:8080/"
        },
        "id": "zb63bw0zBOQK",
        "outputId": "2e00efc7-643d-44f0-8686-5a73e3dabd34"
      },
      "execution_count": null,
      "outputs": [
        {
          "output_type": "stream",
          "name": "stdout",
          "text": [
            "                criteria  weight  ratingA  ratingB scoreA scoreB\n",
            "0                   risk    0.10        1        5    0.1    0.5\n",
            "1                    ROI    0.15        2        4    0.3    0.6\n",
            "2            feasibility    0.30        3        3    0.9    0.9\n",
            "3  customer satisfaction    0.15        4        2    0.6    0.3\n",
            "4              alignment    0.30        5        1    1.5    0.3\n"
          ]
        },
        {
          "output_type": "stream",
          "name": "stderr",
          "text": [
            "/usr/local/lib/python3.7/dist-packages/ipykernel_launcher.py:4: SettingWithCopyWarning: \n",
            "A value is trying to be set on a copy of a slice from a DataFrame\n",
            "\n",
            "See the caveats in the documentation: https://pandas.pydata.org/pandas-docs/stable/user_guide/indexing.html#returning-a-view-versus-a-copy\n",
            "  after removing the cwd from sys.path.\n",
            "/usr/local/lib/python3.7/dist-packages/ipykernel_launcher.py:5: SettingWithCopyWarning: \n",
            "A value is trying to be set on a copy of a slice from a DataFrame\n",
            "\n",
            "See the caveats in the documentation: https://pandas.pydata.org/pandas-docs/stable/user_guide/indexing.html#returning-a-view-versus-a-copy\n",
            "  \"\"\"\n"
          ]
        }
      ]
    },
    {
      "cell_type": "code",
      "source": [
        "#5th get total score\n",
        "\n",
        "totalScoreA=0\n",
        "totalScoreB=0\n",
        "\n",
        "for index, row in AA.iterrows():\n",
        "    totalScoreA += row['scoreA']\n",
        "    totalScoreB += row['scoreB']\n",
        "\n",
        "print('the total score for A is {:.2f} and for B is {:.2f}'.format(totalScoreA, totalScoreB) )"
      ],
      "metadata": {
        "colab": {
          "base_uri": "https://localhost:8080/"
        },
        "id": "0mAP-QIACHEb",
        "outputId": "c26dc7ac-aabd-4f62-9b5c-50995189c8c2"
      },
      "execution_count": null,
      "outputs": [
        {
          "output_type": "stream",
          "name": "stdout",
          "text": [
            "the total score for A is 3.40 and for B is 2.60\n"
          ]
        }
      ]
    }
  ]
}