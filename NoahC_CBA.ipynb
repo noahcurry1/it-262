{
  "nbformat": 4,
  "nbformat_minor": 0,
  "metadata": {
    "colab": {
      "name": "NoahC_Lab2.ipynb",
      "provenance": [],
      "mount_file_id": "15eR2YYxTJlwuJrCoR5oUIfWzRT0iZWus",
      "authorship_tag": "ABX9TyNlRrhfQXnP/zRlclrgfOtL",
      "include_colab_link": true
    },
    "kernelspec": {
      "name": "python3",
      "display_name": "Python 3"
    },
    "language_info": {
      "name": "python"
    }
  },
  "cells": [
    {
      "cell_type": "markdown",
      "metadata": {
        "id": "view-in-github",
        "colab_type": "text"
      },
      "source": [
        "<a href=\"https://colab.research.google.com/github/noahcurry1/it-262/blob/main/NoahC_CBA.ipynb\" target=\"_parent\"><img src=\"https://colab.research.google.com/assets/colab-badge.svg\" alt=\"Open In Colab\"/></a>"
      ]
    },
    {
      "cell_type": "code",
      "execution_count": null,
      "metadata": {
        "id": "6-WGvlw14i21",
        "colab": {
          "base_uri": "https://localhost:8080/"
        },
        "outputId": "08147c43-cebf-46c6-b668-1fc6c8b1d947"
      },
      "outputs": [
        {
          "output_type": "stream",
          "name": "stdout",
          "text": [
            "   years  developmentCost  operationalCost  valueOfBenefits\n",
            "0      0             -100                0                0\n",
            "1      1              -30              -10               25\n",
            "2      2                0              -15               55\n",
            "3      3                0              -15               85\n"
          ]
        }
      ],
      "source": [
        "import pandas as pd\n",
        "import math\n",
        "\n",
        "dataT=pd.read_csv(\"/content/drive/MyDrive/262-CBA.csv\")\n",
        "print (dataT)\n",
        "\n"
      ]
    },
    {
      "cell_type": "code",
      "source": [
        "discountRate=.09\n",
        "discountFactor=[0,0,0,0]\n",
        "for year in dataT['years']:\n",
        "    discountFactor[year]=1/math.pow((1+discountRate),year)\n",
        "dataT['discountFactor']=[round(num,2) for num in discountFactor]\n",
        "print(dataT)"
      ],
      "metadata": {
        "colab": {
          "base_uri": "https://localhost:8080/"
        },
        "id": "KoOG9vWQ-Myo",
        "outputId": "65911ed7-da75-4436-ca98-b44ec9fe40e5"
      },
      "execution_count": null,
      "outputs": [
        {
          "output_type": "stream",
          "name": "stdout",
          "text": [
            "   years  developmentCost  operationalCost  valueOfBenefits  discountFactor\n",
            "0      0             -100                0                0            1.00\n",
            "1      1              -30              -10               25            0.92\n",
            "2      2                0              -15               55            0.84\n",
            "3      3                0              -15               85            0.77\n"
          ]
        }
      ]
    },
    {
      "cell_type": "code",
      "source": [
        "NetBC=[0,0,0,0]\n",
        "for year in dataT['years']:\n",
        "    NetBC[year]= dataT['developmentCost'][year]+dataT['operationalCost'][year]+dataT['valueOfBenefits'][year]\n",
        "dataT['NetBC']=NetBC\n",
        "print (dataT)"
      ],
      "metadata": {
        "colab": {
          "base_uri": "https://localhost:8080/"
        },
        "id": "Z9Efxuav__LK",
        "outputId": "9dd41652-3d8d-4ac3-cd45-50087342d6ba"
      },
      "execution_count": null,
      "outputs": [
        {
          "output_type": "stream",
          "name": "stdout",
          "text": [
            "   years  developmentCost  ...  discountFactor  NetBC\n",
            "0      0             -100  ...            1.00   -100\n",
            "1      1              -30  ...            0.92    -15\n",
            "2      2                0  ...            0.84     40\n",
            "3      3                0  ...            0.77     70\n",
            "\n",
            "[4 rows x 6 columns]\n"
          ]
        }
      ]
    },
    {
      "cell_type": "code",
      "source": [
        "NPV=[0,0,0,0]\n",
        "for year in dataT['years']:\n",
        "    NPV[year]=dataT['NetBC'][year]*dataT['discountFactor'][year]\n",
        "\n",
        "dataT['NPV']=[round(num,2) for num in NPV]\n",
        "print(dataT)"
      ],
      "metadata": {
        "colab": {
          "base_uri": "https://localhost:8080/"
        },
        "id": "azxXSuu3BORg",
        "outputId": "e2011fde-8fc1-4126-96d3-fe42b45c3954"
      },
      "execution_count": null,
      "outputs": [
        {
          "output_type": "stream",
          "name": "stdout",
          "text": [
            "   years  developmentCost  operationalCost  ...  discountFactor  NetBC    NPV\n",
            "0      0             -100                0  ...            1.00   -100 -100.0\n",
            "1      1              -30              -10  ...            0.92    -15  -13.8\n",
            "2      2                0              -15  ...            0.84     40   33.6\n",
            "3      3                0              -15  ...            0.77     70   53.9\n",
            "\n",
            "[4 rows x 7 columns]\n"
          ]
        }
      ]
    }
  ]
}